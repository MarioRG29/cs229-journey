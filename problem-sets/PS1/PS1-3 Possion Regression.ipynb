{
 "cells": [
  {
   "cell_type": "code",
   "execution_count": null,
   "id": "0c2ccda5",
   "metadata": {},
   "outputs": [],
   "source": [
    "import sys\n",
    "sys.path.append(r\"C:\\cs229-journey\\cs229-journey\")"
   ]
  },
  {
   "cell_type": "code",
   "execution_count": null,
   "id": "42945aba",
   "metadata": {},
   "outputs": [],
   "source": [
    "import matplotlib.pyplot as plt\n",
    "import numpy as np\n",
    "import problem_sets.PS1.src.util as util\n",
    "\n",
    "from problem_sets.PS1.src.linear_model import LinearModel"
   ]
  },
  {
   "cell_type": "code",
   "execution_count": null,
   "id": "45adf405",
   "metadata": {},
   "outputs": [],
   "source": [
    "ds4_training_set_path = 'data/ds4_train.csv'\n",
    "ds4_valid_set_path = 'data/ds4_valid.csv'"
   ]
  },
  {
   "cell_type": "code",
   "execution_count": null,
   "id": "b0933a32",
   "metadata": {},
   "outputs": [],
   "source": [
    "x_train, y_train = util.load_dataset(ds4_training_set_path, add_intercept=True)\n",
    "x_valid, y_valid = util.load_dataset(ds4_valid_set_path, add_intercept=True)"
   ]
  },
  {
   "cell_type": "markdown",
   "id": "c758a92b",
   "metadata": {},
   "source": [
    "We have a look to the data"
   ]
  },
  {
   "cell_type": "code",
   "execution_count": null,
   "id": "39e12cce",
   "metadata": {},
   "outputs": [],
   "source": [
    "#we see that our train set have 4 features (+ intercept)\n",
    "x_train"
   ]
  },
  {
   "cell_type": "markdown",
   "id": "50b4aea7",
   "metadata": {},
   "source": [
    "(d)  Consider a website that wants to predict its daily traffic.\n",
    " The website owners have collected a dataset of past tra c to their website, along with\n",
    " some features which they think are useful in predicting the number of visitors per day. The\n",
    " dataset is split into train/valid/test sets and follows the same format as Datasets 1-3:\n",
    " data/ds4_{train,valid}.csv\n",
    " We will apply Poisson regression to model the number of visitors per day. Note that ap\n",
    "plying Poisson regression in particular assumes that the data follows a Poisson distribution\n",
    " whose natural parameter is a linear combination of the input features (i.e., $\\eta = \\theta^T x$).\n",
    " In src/p03d_poisson.py, implement Poisson regression for this dataset and use gradient\n",
    " ascent to maximize the log-likelihood of $\\theta$."
   ]
  },
  {
   "cell_type": "code",
   "execution_count": null,
   "id": "448559f8",
   "metadata": {},
   "outputs": [],
   "source": [
    "class PoissonRegression(LinearModel):\n",
    "    \"\"\"Poisson Regression.\n",
    "\n",
    "    Example usage:\n",
    "        > clf = PoissonRegression(step_size=lr)\n",
    "        > clf.fit(x_train, y_train)\n",
    "        > clf.predict(x_eval)\n",
    "    \"\"\"\n",
    "\n",
    "    def fit(self, x, y):\n",
    "        \"\"\"Run gradient ascent to maximize likelihood for Poisson regression.\n",
    "\n",
    "        Args:\n",
    "            x: Training example inputs. Shape (m, n).\n",
    "            y: Training example labels. Shape (m,).\n",
    "        \"\"\"\n",
    "        m, n = x.shape\n",
    "        self.theta = np.zeros(n)\n",
    "        while True:\n",
    "            theta = np.copy(self.theta)\n",
    "            update = self.step_size * np.dot(x.T, (y - np.exp(np.dot(x, self.theta))))/m\n",
    "            self.theta = self.theta + update\n",
    "            if np.linalg.norm(self.theta - theta) < self.eps:\n",
    "                break\n",
    "\n",
    "    def predict(self, x):\n",
    "        \"\"\"Make a prediction given inputs x.\n",
    "\n",
    "        Args:\n",
    "            x: Inputs of shape (m, n).\n",
    "\n",
    "        Returns:\n",
    "            Floating-point prediction for each input, shape (m,).\n",
    "        \"\"\"\n",
    "        # *** START CODE HERE ***\n",
    "        probs = np.exp(np.dot(x, self.theta))\n",
    "        return probs\n",
    "        # *** END CODE HERE ***"
   ]
  },
  {
   "cell_type": "code",
   "execution_count": null,
   "id": "92a7057f",
   "metadata": {},
   "outputs": [],
   "source": [
    "model = PoissonRegression(step_size=1e-7)\n",
    "model.fit(x_train, y_train)"
   ]
  },
  {
   "cell_type": "code",
   "execution_count": null,
   "id": "ed60da20",
   "metadata": {},
   "outputs": [],
   "source": [
    "mse_train = np.mean((model.predict(x_train) - y_train)**2)\n",
    "rel_error = np.linalg.norm(model.predict(x_train) - y_train)/np.linalg.norm(y_train)\n",
    "print(f\"The MSE over the train set has been {mse_train:.2f}\")\n",
    "print(f\"The rel. error over the train set has been {rel_error:.4%}\")\n",
    "plt.plot(y_train, '.', label = \"Real values\")\n",
    "plt.plot(model.predict(x_train), 'x', label = \"Prediction of the model\")\n",
    "plt.ylabel(\"Counts\")\n",
    "plt.legend()\n",
    "plt.grid()\n",
    "plt.show()"
   ]
  },
  {
   "cell_type": "code",
   "execution_count": null,
   "id": "2171ae04",
   "metadata": {},
   "outputs": [],
   "source": [
    "mse_valid = np.mean((model.predict(x_valid) - y_valid)**2)\n",
    "rel_error = np.linalg.norm(model.predict(x_valid) - y_valid)/np.linalg.norm(y_valid)\n",
    "print(f\"The MSE over the train set has been {mse_train:.2f}\")\n",
    "print(f\"The rel. error over the train set has been {rel_error:.4%}\")\n",
    "\n",
    "y_pred = model.predict(x_valid)\n",
    "\n",
    "plt.figure(figsize=(6,4))\n",
    "plt.plot(y_valid, '.', label=\"Real values\")\n",
    "plt.plot(y_pred, 'x', label=\"Predictions\")\n",
    "plt.ylabel(\"Counts\")\n",
    "plt.legend()\n",
    "plt.grid()\n",
    "plt.show()\n",
    "\n",
    "plt.figure(figsize=(5,5))\n",
    "plt.plot(y_valid, y_pred, '.')\n",
    "plt.plot([y_valid.min(), y_valid.max()],\n",
    "         [y_valid.min(), y_valid.max()],\n",
    "         'r--', label=\"Perfect prediction\")\n",
    "plt.xlabel(\"Real values\")\n",
    "plt.ylabel(\"Predicted values\")\n",
    "plt.legend()\n",
    "plt.grid()\n",
    "plt.show()\n"
   ]
  }
 ],
 "metadata": {
  "kernelspec": {
   "display_name": ".venv",
   "language": "python",
   "name": "python3"
  },
  "language_info": {
   "codemirror_mode": {
    "name": "ipython",
    "version": 3
   },
   "file_extension": ".py",
   "mimetype": "text/x-python",
   "name": "python",
   "nbconvert_exporter": "python",
   "pygments_lexer": "ipython3",
   "version": "3.13.8"
  }
 },
 "nbformat": 4,
 "nbformat_minor": 5
}
