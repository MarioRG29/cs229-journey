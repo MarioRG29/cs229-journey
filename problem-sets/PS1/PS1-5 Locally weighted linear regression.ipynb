{
 "cells": [
  {
   "cell_type": "code",
   "execution_count": null,
   "id": "0c2ccda5",
   "metadata": {},
   "outputs": [],
   "source": [
    "import sys\n",
    "sys.path.append(r\"C:\\cs229-journey\\cs229-journey\")"
   ]
  },
  {
   "cell_type": "code",
   "execution_count": null,
   "id": "42945aba",
   "metadata": {},
   "outputs": [],
   "source": [
    "import matplotlib.pyplot as plt\n",
    "import numpy as np\n",
    "import problem_sets.PS1.src.util as util\n",
    "\n",
    "from problem_sets.PS1.src.linear_model import LinearModel"
   ]
  },
  {
   "cell_type": "code",
   "execution_count": null,
   "id": "45adf405",
   "metadata": {},
   "outputs": [],
   "source": [
    "ds5_training_set_path = 'data/ds5_train.csv'\n",
    "ds5_valid_set_path = 'data/ds5_valid.csv'\n",
    "ds5_test_set_path = 'data/ds5_test.csv'"
   ]
  },
  {
   "cell_type": "code",
   "execution_count": null,
   "id": "b0933a32",
   "metadata": {},
   "outputs": [],
   "source": [
    "x_train, y_train = util.load_dataset(ds5_training_set_path, add_intercept=True)\n",
    "x_valid, y_valid = util.load_dataset(ds5_valid_set_path, add_intercept=True)\n",
    "x_test, y_test = util.load_dataset(ds5_test_set_path, add_intercept=True)"
   ]
  },
  {
   "cell_type": "markdown",
   "id": "c758a92b",
   "metadata": {},
   "source": [
    "We have a look to the data"
   ]
  },
  {
   "cell_type": "code",
   "execution_count": null,
   "id": "43edb1db",
   "metadata": {},
   "outputs": [],
   "source": [
    "plt.plot(x_train[:,1], y_train, '.', label = \"Train Data\")\n",
    "plt.plot(x_test[:,1], y_test, '.', label = \"Test Data\")\n",
    "plt.xlabel(\"x\")\n",
    "plt.ylabel(\"y\")\n",
    "plt.legend()\n",
    "plt.grid()\n",
    "plt.show()"
   ]
  },
  {
   "cell_type": "markdown",
   "id": "50b4aea7",
   "metadata": {},
   "source": [
    "(b) We will now consider the followingdataset(the formatting\n",
    " matches that of Datasets1-4, except $x^{(i)}$ is 1-dimensional): data/ds5_{train,valid,test}.csv\n",
    "\n",
    "In src/p05b_lwr.py, implement locally weighted linear regression using the normal equations you derived in Part(a) and using \n",
    "$$\n",
    "w^{(i)}=\\exp{-\\dfrac{||x^{(i)} - x||_2^2}{2\\tau^2}}\n",
    "$$\n",
    "Train your model on the train split using $\\tau=0.5$,then run your model on the valid split\n",
    "and report the mean squared error (MSE).Finally plot your models predictions on the\n",
    "validation set(plot the training set with blue x markers and the validation set with a red\n",
    "o markers). Does the model seem to be under-or overfitting?\n"
   ]
  },
  {
   "cell_type": "code",
   "execution_count": null,
   "id": "448559f8",
   "metadata": {},
   "outputs": [],
   "source": [
    "class LocallyWeightedLinearRegression(LinearModel):\n",
    "    \"\"\"Locally Weighted Regression (LWR).\n",
    "\n",
    "    Example usage:\n",
    "        > clf = LocallyWeightedLinearRegression(tau)\n",
    "        > clf.fit(x_train, y_train)\n",
    "        > clf.predict(x_eval)\n",
    "    \"\"\"\n",
    "\n",
    "    def __init__(self, tau, x, y):\n",
    "        super(LocallyWeightedLinearRegression, self).__init__()\n",
    "        self.tau = tau\n",
    "        self.x = None\n",
    "        self.y = None\n",
    "\n",
    "    def fit(self, x, y):\n",
    "        \"\"\"Fit LWR by saving the training set.\n",
    "\n",
    "        \"\"\"\n",
    "        # *** START CODE HERE ***\n",
    "        self.x = x\n",
    "        self.y = y\n",
    "        # *** END CODE HERE ***\n",
    "\n",
    "    def predict(self, x):\n",
    "        \"\"\"Make predictions given inputs x.\n",
    "\n",
    "        Args:\n",
    "            x: Inputs of shape (m, n).\n",
    "\n",
    "        Returns:\n",
    "            Outputs of shape (m,).\n",
    "        \"\"\"\n",
    "        # *** START CODE HERE ***\n",
    "        m_train, n_train = self.x.shape\n",
    "        m_pred, n_pred = x.shape\n",
    "        y_pred = np.zeros(m_pred)\n",
    "        for i in range(m_pred):\n",
    "            w = np.zeros(m_train)\n",
    "            for j in range(m_train):\n",
    "                w[j] = np.exp(-(self.x[j,:] - x[i,:]) @ (self.x[j,:] - x[i,:]).T/(2*self.tau**2))\n",
    "            w_matrix = np.diag(w)\n",
    "            theta = np.linalg.inv(self.x.T @ w_matrix @ self.x) @ self.x.T @ w_matrix @ self.y\n",
    "            y_pred[i] = np.dot(x[i, :], theta)\n",
    "\n",
    "        return y_pred"
   ]
  },
  {
   "cell_type": "code",
   "execution_count": null,
   "id": "92a7057f",
   "metadata": {},
   "outputs": [],
   "source": [
    "model = LocallyWeightedLinearRegression(tau=0.5, x=x_train, y=y_train)\n",
    "model.fit(x_train, y_train)"
   ]
  },
  {
   "cell_type": "code",
   "execution_count": null,
   "id": "ed60da20",
   "metadata": {},
   "outputs": [],
   "source": [
    "mse_train = np.mean((model.predict(x_train) - y_train)**2)\n",
    "print(f\"The MSE over the train set has been {mse_train:.2f}\")\n",
    "plt.plot(x_train[:,1], y_train, 'x', label = \"Real values\")\n",
    "plt.plot(x_train[:,1], model.predict(x_train), 'o', c=\"red\", label = \"Prediction of the model\")\n",
    "plt.ylabel(\"Counts\")\n",
    "plt.legend()\n",
    "plt.grid()\n",
    "plt.show()\n",
    "\n",
    "mse_valid = np.mean((model.predict(x_valid) - y_valid)**2)\n",
    "print(f\"The MSE over the validation set has been {mse_valid:.2f}\")\n",
    "\n",
    "y_pred = model.predict(x_valid)\n",
    "\n",
    "plt.figure(figsize=(6,4))\n",
    "plt.plot(x_valid[:,1], y_valid, 'x', label=\"Real values\")\n",
    "plt.plot(x_valid[:,1], y_pred, 'o', c=\"red\", label=\"Predictions\")\n",
    "plt.ylabel(\"Counts\")\n",
    "plt.legend()\n",
    "plt.grid()\n",
    "plt.show()"
   ]
  },
  {
   "cell_type": "markdown",
   "id": "34678ac2",
   "metadata": {},
   "source": [
    "The model is clearly underfitting."
   ]
  },
  {
   "cell_type": "markdown",
   "id": "4ad24c92",
   "metadata": {},
   "source": [
    " (c) [5 points] Coding problem. We will now tune the hyperparameter $\\tau$. In src/p05c_tau.py,\n",
    " find the MSE value of your model on the validation set for each of the values of specified\n",
    " in the code. For each , plot your models predictions on the validation set in the format\n",
    " described in part (b). Report the value of which achieves the lowest MSE on the valid\n",
    " split, and finally report the MSE on the test split using this-value"
   ]
  },
  {
   "cell_type": "code",
   "execution_count": null,
   "id": "a1b474d7",
   "metadata": {},
   "outputs": [],
   "source": [
    "taus = [3e-2, 5e-2, 1e-1, 5e-1, 1e0, 1e1]\n",
    "mse_dict = {}\n",
    "for tau in taus:\n",
    "    model = LocallyWeightedLinearRegression(tau=tau, x=x_train, y=y_train)\n",
    "    model.fit(x_train, y_train)\n",
    "    mse = np.mean((y_valid - model.predict(x_valid))**2)\n",
    "    mse_dict[tau] = mse\n",
    "    plt.plot(x_valid[:,1], y_valid, \"x\", label = \"Validation Points\")\n",
    "    plt.plot(x_valid[:,1], model.predict(x_valid), \"o\", c = \"red\", label = \"Predicted Points\")\n",
    "    plt.title(f\"MSE (tau: {tau}): {mse:.5f}\")\n",
    "    plt.legend()\n",
    "    plt.xlabel(\"x\")\n",
    "    plt.ylabel(\"y\")\n",
    "    plt.grid()\n",
    "    plt.show()\n"
   ]
  },
  {
   "cell_type": "markdown",
   "id": "6078e5a9",
   "metadata": {},
   "source": [
    "We see the best MSE for validation set is obtained when $\\tau=0.05$"
   ]
  },
  {
   "cell_type": "code",
   "execution_count": null,
   "id": "af4dd3e8",
   "metadata": {},
   "outputs": [],
   "source": [
    "\n",
    "tau = 5e-2\n",
    "model = LocallyWeightedLinearRegression(tau=tau, x=x_train, y=y_train)\n",
    "model.fit(x_train, y_train)\n",
    "mse = np.mean((y_test - model.predict(x_test))**2)\n",
    "plt.plot(x_test[:,1], y_test, \"x\", label = \"Test Points\")\n",
    "plt.plot(x_test[:,1], model.predict(x_test), \"o\", c = \"red\", label = \"Predicted Points\")\n",
    "plt.title(f\"MSE (tau: {tau}): {mse:.5f}\")\n",
    "plt.legend()\n",
    "plt.xlabel(\"x\")\n",
    "plt.ylabel(\"y\")\n",
    "plt.grid()\n",
    "plt.show()"
   ]
  },
  {
   "cell_type": "code",
   "execution_count": null,
   "id": "e52fc225",
   "metadata": {},
   "outputs": [],
   "source": []
  }
 ],
 "metadata": {
  "kernelspec": {
   "display_name": ".venv",
   "language": "python",
   "name": "python3"
  },
  "language_info": {
   "codemirror_mode": {
    "name": "ipython",
    "version": 3
   },
   "file_extension": ".py",
   "mimetype": "text/x-python",
   "name": "python",
   "nbconvert_exporter": "python",
   "pygments_lexer": "ipython3",
   "version": "3.13.8"
  }
 },
 "nbformat": 4,
 "nbformat_minor": 5
}
